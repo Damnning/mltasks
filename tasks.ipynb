{
 "cells": [
  {
   "cell_type": "code",
   "execution_count": 11,
   "id": "dedc1432-e2c9-4e9b-a2e1-32ff479870c9",
   "metadata": {},
   "outputs": [],
   "source": [
    "def matrix_dot_vector(a:list[list[int|float]],b:list[int|float])-> list[int|float]:\n",
    "    c = [0] * len(b)\n",
    "    for i in range(len(a)):\n",
    "        if(len(a[i]) != len(b)):\n",
    "            return -1\n",
    "        for j in range(len(a[i])):\n",
    "            c[i] += a[i][j]*b[j]\n",
    "    return c"
   ]
  },
  {
   "cell_type": "code",
   "execution_count": 13,
   "id": "d6a744c2-562b-4bfb-bd48-38dc241ccc8e",
   "metadata": {},
   "outputs": [
    {
     "data": {
      "text/plain": [
       "[5, 10]"
      ]
     },
     "execution_count": 13,
     "metadata": {},
     "output_type": "execute_result"
    }
   ],
   "source": [
    "matrix_dot_vector(a = [[1,2],[2,4]], b = [1,2])"
   ]
  },
  {
   "cell_type": "code",
   "execution_count": null,
   "id": "bc3d189c-9215-446c-9c82-846956e21bcb",
   "metadata": {},
   "outputs": [],
   "source": [
    "def calculate_covariance_matrix(vectors: list[list[float]]) -> list[list[float]]:\n",
    "    covariance_matrix = []\n",
    "    return covariance_matrix"
   ]
  }
 ],
 "metadata": {
  "kernelspec": {
   "display_name": "Python 3 (ipykernel)",
   "language": "python",
   "name": "python3"
  },
  "language_info": {
   "codemirror_mode": {
    "name": "ipython",
    "version": 3
   },
   "file_extension": ".py",
   "mimetype": "text/x-python",
   "name": "python",
   "nbconvert_exporter": "python",
   "pygments_lexer": "ipython3",
   "version": "3.11.7"
  }
 },
 "nbformat": 4,
 "nbformat_minor": 5
}
